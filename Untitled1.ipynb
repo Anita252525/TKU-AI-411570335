{
  "nbformat": 4,
  "nbformat_minor": 0,
  "metadata": {
    "colab": {
      "provenance": [],
      "authorship_tag": "ABX9TyNSPJHye41Tv/dd1e0Mz8bc",
      "include_colab_link": true
    },
    "kernelspec": {
      "name": "python3",
      "display_name": "Python 3"
    },
    "language_info": {
      "name": "python"
    }
  },
  "cells": [
    {
      "cell_type": "markdown",
      "metadata": {
        "id": "view-in-github",
        "colab_type": "text"
      },
      "source": [
        "<a href=\"https://colab.research.google.com/github/Anita252525/TKU-AI-411570335/blob/main/Untitled1.ipynb\" target=\"_parent\"><img src=\"https://colab.research.google.com/assets/colab-badge.svg\" alt=\"Open In Colab\"/></a>"
      ]
    },
    {
      "cell_type": "code",
      "execution_count": 1,
      "metadata": {
        "colab": {
          "base_uri": "https://localhost:8080/"
        },
        "id": "67JIlKVUxLt1",
        "outputId": "2dc50ff5-30f0-4ade-c8cc-06f5e0745920"
      },
      "outputs": [
        {
          "output_type": "stream",
          "name": "stdout",
          "text": [
            "hi,pyhon\n"
          ]
        }
      ],
      "source": [
        "print(\"hi,pyhon\")"
      ]
    },
    {
      "cell_type": "markdown",
      "source": [
        "今天是11月15號\n"
      ],
      "metadata": {
        "id": "VrGTTXkyxVNS"
      }
    },
    {
      "cell_type": "code",
      "source": [
        "print(\"今天是11月15號\")"
      ],
      "metadata": {
        "colab": {
          "base_uri": "https://localhost:8080/"
        },
        "id": "RcOHX695xT4p",
        "outputId": "cb48b638-2f1a-45b3-a66c-310220ca42a7"
      },
      "execution_count": 2,
      "outputs": [
        {
          "output_type": "stream",
          "name": "stdout",
          "text": [
            "今天是11月15號\n"
          ]
        }
      ]
    },
    {
      "cell_type": "code",
      "source": [
        "print(\"李甄庭,411570335\")"
      ],
      "metadata": {
        "colab": {
          "base_uri": "https://localhost:8080/"
        },
        "id": "gDirVuygxd1G",
        "outputId": "c09df0bb-0d84-4374-bfdf-eca75b03e7c5"
      },
      "execution_count": 3,
      "outputs": [
        {
          "output_type": "stream",
          "name": "stdout",
          "text": [
            "李甄庭,411570335\n"
          ]
        }
      ]
    }
  ]
}